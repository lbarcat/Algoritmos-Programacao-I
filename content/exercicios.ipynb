{
 "cells": [
  {
   "attachments": {},
   "cell_type": "markdown",
   "metadata": {},
   "source": [
    "# Algoritmos e Programação de Computadores I"
   ]
  },
  {
   "attachments": {},
   "cell_type": "markdown",
   "metadata": {},
   "source": [
    "# Semana 1 - Exercícios"
   ]
  },
  {
   "attachments": {},
   "cell_type": "markdown",
   "metadata": {},
   "source": [
    "### Algoritmo do Filme Coringa"
   ]
  },
  {
   "cell_type": "code",
   "execution_count": null,
   "metadata": {},
   "outputs": [],
   "source": [
    "#inicio\n",
    "    #ir ao cinema\n",
    "    #comprar uma entrada\n",
    "    #ver o filme\n",
    "    #voltar para casa\n",
    "#fim\n",
    "\n",
    "#e se não tiver passando?\n",
    "#e se mão tiver fila? \n",
    "#e se não houver lugar?"
   ]
  },
  {
   "attachments": {},
   "cell_type": "markdown",
   "metadata": {},
   "source": [
    "### Média de Notas"
   ]
  },
  {
   "cell_type": "code",
   "execution_count": null,
   "metadata": {},
   "outputs": [],
   "source": [
    "media = 0 #variavel para guardar a média\n",
    "total_notas = 0 #variável para guardar total de notas\n",
    "\n",
    "for i in range(100): #itera sobre os 5 alunos\n",
    "    nota = int(input(\"Informe a nota do aluno {}:\".format(i+1))) #leitura da nota\n",
    "    total_notas += nota #soma da nota lida com total de notas\n",
    "\n",
    "media = total_notas / 100 #media é o total de notas dividido por 5(número de alunos)\n",
    "print(\"A média das notas é {}\".format(media))"
   ]
  },
  {
   "cell_type": "code",
   "execution_count": null,
   "metadata": {},
   "outputs": [],
   "source": [
    "media = 0 #variavel para guardar a média\n",
    "total_notas = 0 #variável para guardar total de notas\n",
    "\n",
    "for i in range(4): #itera sobre os 5 alunos\n",
    "    nota = int(input(\"Informe as notas do aluno, N{}:\".format(i+1))) #leitura da nota\n",
    "    total_notas += nota #soma da nota lida com total de notas\n",
    "\n",
    "media = total_notas / 4 #media é o total de notas dividido por 5(número de alunos)\n",
    "print(\"A média das notas do aluno é {}\".format(media))\n",
    "if media > 5:\n",
    "    print(\"Aluno aprovado com média\", media)\n",
    "if media < 5:\n",
    "    print(\"Aluno Reprovado com média\", media)"
   ]
  },
  {
   "attachments": {},
   "cell_type": "markdown",
   "metadata": {},
   "source": [
    "### Conversão Celsius x Fahrenheit"
   ]
  },
  {
   "cell_type": "code",
   "execution_count": null,
   "metadata": {},
   "outputs": [],
   "source": [
    "c = float(input(\"Temperatura em graus Celsius:\"))\n",
    "f = c * 9 / 5 + 32\n",
    "print(f)"
   ]
  },
  {
   "attachments": {},
   "cell_type": "markdown",
   "metadata": {},
   "source": [
    "### Soma dos Números Naturais"
   ]
  },
  {
   "cell_type": "code",
   "execution_count": null,
   "metadata": {},
   "outputs": [],
   "source": [
    "for i in range(1, 100):\n",
    "    soma = i + 1\n",
    "    print(soma)"
   ]
  },
  {
   "attachments": {},
   "cell_type": "markdown",
   "metadata": {},
   "source": [
    "# Semana 2 - Exercícios de apoio"
   ]
  },
  {
   "attachments": {},
   "cell_type": "markdown",
   "metadata": {},
   "source": [
    "### Média Harmônica"
   ]
  },
  {
   "cell_type": "code",
   "execution_count": 2,
   "metadata": {},
   "outputs": [
    {
     "data": {
      "text/plain": [
       "6.120733571064696"
      ]
     },
     "execution_count": 2,
     "metadata": {},
     "output_type": "execute_result"
    }
   ],
   "source": [
    "3/((1/3.6)+(1/8.9)+(1/10))"
   ]
  },
  {
   "attachments": {},
   "cell_type": "markdown",
   "metadata": {},
   "source": [
    "## Exercício 2.1"
   ]
  },
  {
   "cell_type": "code",
   "execution_count": 3,
   "metadata": {},
   "outputs": [
    {
     "data": {
      "text/plain": [
       "15"
      ]
     },
     "execution_count": 3,
     "metadata": {},
     "output_type": "execute_result"
    }
   ],
   "source": [
    "#A soma dos 5 primeiros inteiros positivos\n",
    "1 + 2 + 3 + 4 + 5"
   ]
  },
  {
   "cell_type": "code",
   "execution_count": 2,
   "metadata": {},
   "outputs": [
    {
     "name": "stdout",
     "output_type": "stream",
     "text": [
      "24.333333333333332\n"
     ]
    }
   ],
   "source": [
    "#A idade média de Sara (idade 23), Mark (idade 19) e Fátima (idade 31).\n",
    "idade1 = 23\n",
    "idade2 = 19\n",
    "idade3 = 31\n",
    "media = (idade1 + idade2 + idade3) / 3 \n",
    "print(float(media))"
   ]
  },
  {
   "cell_type": "code",
   "execution_count": 5,
   "metadata": {},
   "outputs": [
    {
     "data": {
      "text/plain": [
       "5"
      ]
     },
     "execution_count": 5,
     "metadata": {},
     "output_type": "execute_result"
    }
   ],
   "source": [
    "#O número de vezes que 73 cabe em 403.\n",
    "403 // 73"
   ]
  },
  {
   "cell_type": "code",
   "execution_count": 3,
   "metadata": {},
   "outputs": [
    {
     "name": "stdout",
     "output_type": "stream",
     "text": [
      "38.0\n"
     ]
    }
   ],
   "source": [
    "#O resto de quando 403 é dividido por 73\n",
    "x = 403 % 73\n",
    "print(float(x))"
   ]
  },
  {
   "cell_type": "code",
   "execution_count": 7,
   "metadata": {},
   "outputs": [
    {
     "data": {
      "text/plain": [
       "1024"
      ]
     },
     "execution_count": 7,
     "metadata": {},
     "output_type": "execute_result"
    }
   ],
   "source": [
    "#2 à 10ª potência.\n",
    "2 ** 10"
   ]
  },
  {
   "cell_type": "code",
   "execution_count": 9,
   "metadata": {},
   "outputs": [
    {
     "data": {
      "text/plain": [
       "3"
      ]
     },
     "execution_count": 9,
     "metadata": {},
     "output_type": "execute_result"
    }
   ],
   "source": [
    "#O valor absoluto da distância entre a altura de Sara (54 polegadas) e a altura de Mark (57 polegadas).\n",
    "abs(54 - 57)"
   ]
  },
  {
   "cell_type": "code",
   "execution_count": 10,
   "metadata": {},
   "outputs": [
    {
     "data": {
      "text/plain": [
       "29.95"
      ]
     },
     "execution_count": 10,
     "metadata": {},
     "output_type": "execute_result"
    }
   ],
   "source": [
    "#O menor preço entre os seguintes preços: R$ 34,99, R$ 29,95 e R$ 31,50.\n",
    "min(34.99, 29.95, 31.50)"
   ]
  },
  {
   "attachments": {},
   "cell_type": "markdown",
   "metadata": {},
   "source": [
    "## Exercício 2.2"
   ]
  },
  {
   "cell_type": "code",
   "execution_count": 1,
   "metadata": {},
   "outputs": [
    {
     "name": "stdout",
     "output_type": "stream",
     "text": [
      "False\n"
     ]
    }
   ],
   "source": [
    "#A soma de 2 e 2 é menor que 4.\n",
    "print(2 + 2 < 4)"
   ]
  },
  {
   "cell_type": "code",
   "execution_count": 2,
   "metadata": {},
   "outputs": [
    {
     "name": "stdout",
     "output_type": "stream",
     "text": [
      "True\n"
     ]
    }
   ],
   "source": [
    "# O valor de 7 // 3 é igual a 1 + 1.\n",
    "print(7 // 3 == 1 + 1)"
   ]
  },
  {
   "cell_type": "code",
   "execution_count": 4,
   "metadata": {},
   "outputs": [
    {
     "name": "stdout",
     "output_type": "stream",
     "text": [
      "True\n"
     ]
    }
   ],
   "source": [
    "#A soma de 3 ao quadrado e 4 ao quadrado é igual a 25.\n",
    "print(9 + 16 == 25)"
   ]
  },
  {
   "cell_type": "code",
   "execution_count": 5,
   "metadata": {},
   "outputs": [
    {
     "name": "stdout",
     "output_type": "stream",
     "text": [
      "False\n"
     ]
    }
   ],
   "source": [
    "#A soma de 2, 4 e 6 é maior que 12.\n",
    "print(2 + 4 + 6 > 12)"
   ]
  },
  {
   "cell_type": "code",
   "execution_count": 8,
   "metadata": {},
   "outputs": [
    {
     "name": "stdout",
     "output_type": "stream",
     "text": [
      "1387 é divisivel por 19\n"
     ]
    }
   ],
   "source": [
    "#1387 é divisível por 19.\n",
    "if 1387 % 19 == 0:\n",
    "    print(\"1387 é divisivel por 19\")\n",
    "else:\n",
    "    print(\"1387 não é divisivel por 19\")"
   ]
  },
  {
   "cell_type": "code",
   "execution_count": 13,
   "metadata": {},
   "outputs": [
    {
     "name": "stdout",
     "output_type": "stream",
     "text": [
      "1\n"
     ]
    }
   ],
   "source": [
    "#31 é par. (Dica: o que o resto lhe diz quando você divide por 2?)\n",
    "print(31 % 2)\n",
    "#31 não é par"
   ]
  },
  {
   "cell_type": "code",
   "execution_count": 1,
   "metadata": {},
   "outputs": [
    {
     "name": "stdout",
     "output_type": "stream",
     "text": [
      "O preço mais baixo é menor que R$ 30,00\n"
     ]
    }
   ],
   "source": [
    "#O preço mais baixo dentre R$ 34,99, R$ 29,95 e R$ 31,50 é menor que R$ 30,00.\n",
    "precos = [34.99, 29.95, 31.50]\n",
    "preco_mais_baixo = min(precos)\n",
    "\n",
    "if preco_mais_baixo < 30.00:\n",
    "    print(\"O preço mais baixo é menor que R$ 30,00\")\n",
    "else:\n",
    "    print(\"O preço mais baixo é igual ou maior que R$ 30,00\")"
   ]
  },
  {
   "attachments": {},
   "cell_type": "markdown",
   "metadata": {},
   "source": [
    "## Exercício 2.3"
   ]
  },
  {
   "cell_type": "code",
   "execution_count": 2,
   "metadata": {},
   "outputs": [
    {
     "name": "stdout",
     "output_type": "stream",
     "text": [
      "3\n"
     ]
    }
   ],
   "source": [
    "#Atribua o valor inteiro 3 à variável a.\n",
    "a = 3\n",
    "print(a)"
   ]
  },
  {
   "cell_type": "code",
   "execution_count": 3,
   "metadata": {},
   "outputs": [
    {
     "name": "stdout",
     "output_type": "stream",
     "text": [
      "4\n"
     ]
    }
   ],
   "source": [
    "#Atribua 4 à variável b.\n",
    "b = 4\n",
    "print(b)"
   ]
  },
  {
   "cell_type": "code",
   "execution_count": 1,
   "metadata": {},
   "outputs": [
    {
     "name": "stdout",
     "output_type": "stream",
     "text": [
      "25\n"
     ]
    }
   ],
   "source": [
    "# Atribua à variável c o valor da expressão a * a + b * b.\n",
    "a = 3\n",
    "b = 4\n",
    "c = (a * a) + (b * b)\n",
    "print(c)"
   ]
  },
  {
   "attachments": {},
   "cell_type": "markdown",
   "metadata": {},
   "source": [
    "## Exercício 2.4"
   ]
  },
  {
   "cell_type": "code",
   "execution_count": 9,
   "metadata": {},
   "outputs": [
    {
     "name": "stdout",
     "output_type": "stream",
     "text": [
      "antbatcod\n",
      "antantantantantantantantantant\n",
      "antbatbatcodcodcod\n",
      "batbatcodbatbatcodbatbatcodbatbatcodbatbatcod\n"
     ]
    }
   ],
   "source": [
    "#(a) 'ant bat cod'\n",
    "#(b) ant ant ant ant ant ant ant ant ant ant'\n",
    "#(c) 'ant bat bat cod cod cod'\n",
    "#(d) 'ant bat ant bat ant bat ant bat ant bat ant bat ant bat'\n",
    "#(e) 'batbatcod batbatcod batbatcod batbatcod batbatcod'\n",
    "s1 = 'ant'\n",
    "s2 = 'bat'\n",
    "s3 = 'cod'\n",
    "print(s1 + s2 + s3)\n",
    "print(s1 * 10)\n",
    "print(s1 + (s2 * 2) + (s3 * 3))\n",
    "print((s2 * 2) + s3 + (s2 * 2) + s3 + (s2 * 2) + s3 + (s2 * 2) + s3 + (s2 * 2) + s3)"
   ]
  },
  {
   "attachments": {},
   "cell_type": "markdown",
   "metadata": {},
   "source": [
    "## Exercício 2.5"
   ]
  },
  {
   "cell_type": "code",
   "execution_count": 15,
   "metadata": {},
   "outputs": [
    {
     "name": "stdout",
     "output_type": "stream",
     "text": [
      "0123456789\n",
      "0\n",
      "1\n",
      "6\n",
      "8\n",
      "9\n"
     ]
    }
   ],
   "source": [
    "s = '0123456789'\n",
    "print(s)\n",
    "print(s[0])\n",
    "print(s[1])\n",
    "print(s[6])\n",
    "print(s[8])\n",
    "print(s[9])"
   ]
  }
 ],
 "metadata": {
  "kernelspec": {
   "display_name": "Python 3",
   "language": "python",
   "name": "python3"
  },
  "language_info": {
   "codemirror_mode": {
    "name": "ipython",
    "version": 3
   },
   "file_extension": ".py",
   "mimetype": "text/x-python",
   "name": "python",
   "nbconvert_exporter": "python",
   "pygments_lexer": "ipython3",
   "version": "3.10.4"
  },
  "orig_nbformat": 4,
  "vscode": {
   "interpreter": {
    "hash": "3ad933181bd8a04b432d3370b9dc3b0662ad032c4dfaa4e4f1596c548f763858"
   }
  }
 },
 "nbformat": 4,
 "nbformat_minor": 2
}
