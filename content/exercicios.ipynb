{
 "cells": [
  {
   "attachments": {},
   "cell_type": "markdown",
   "metadata": {},
   "source": [
    "# Algoritmos e Programação de Computadores I"
   ]
  },
  {
   "attachments": {},
   "cell_type": "markdown",
   "metadata": {},
   "source": [
    "# Semana 1 - Exercícios"
   ]
  },
  {
   "attachments": {},
   "cell_type": "markdown",
   "metadata": {},
   "source": [
    "### Algoritmo do Filme Coringa"
   ]
  },
  {
   "cell_type": "code",
   "execution_count": null,
   "metadata": {},
   "outputs": [],
   "source": [
    "#inicio\n",
    "    #ir ao cinema\n",
    "    #comprar uma entrada\n",
    "    #ver o filme\n",
    "    #voltar para casa\n",
    "#fim\n",
    "\n",
    "#e se não tiver passando?\n",
    "#e se mão tiver fila? \n",
    "#e se não houver lugar?"
   ]
  },
  {
   "attachments": {},
   "cell_type": "markdown",
   "metadata": {},
   "source": [
    "### Média de Notas"
   ]
  },
  {
   "cell_type": "code",
   "execution_count": null,
   "metadata": {},
   "outputs": [],
   "source": [
    "media = 0 #variavel para guardar a média\n",
    "total_notas = 0 #variável para guardar total de notas\n",
    "\n",
    "for i in range(100): #itera sobre os 5 alunos\n",
    "    nota = int(input(\"Informe a nota do aluno {}:\".format(i+1))) #leitura da nota\n",
    "    total_notas += nota #soma da nota lida com total de notas\n",
    "\n",
    "media = total_notas / 100 #media é o total de notas dividido por 5(número de alunos)\n",
    "print(\"A média das notas é {}\".format(media))"
   ]
  },
  {
   "cell_type": "code",
   "execution_count": null,
   "metadata": {},
   "outputs": [],
   "source": [
    "media = 0 #variavel para guardar a média\n",
    "total_notas = 0 #variável para guardar total de notas\n",
    "\n",
    "for i in range(4): #itera sobre os 5 alunos\n",
    "    nota = int(input(\"Informe as notas do aluno, N{}:\".format(i+1))) #leitura da nota\n",
    "    total_notas += nota #soma da nota lida com total de notas\n",
    "\n",
    "media = total_notas / 4 #media é o total de notas dividido por 5(número de alunos)\n",
    "print(\"A média das notas do aluno é {}\".format(media))\n",
    "if media > 5:\n",
    "    print(\"Aluno aprovado com média\", media)\n",
    "if media < 5:\n",
    "    print(\"Aluno Reprovado com média\", media)"
   ]
  },
  {
   "attachments": {},
   "cell_type": "markdown",
   "metadata": {},
   "source": [
    "### Conversão Celsius x Fahrenheit"
   ]
  },
  {
   "cell_type": "code",
   "execution_count": null,
   "metadata": {},
   "outputs": [],
   "source": [
    "c = float(input(\"Temperatura em graus Celsius:\"))\n",
    "f = c * 9 / 5 + 32\n",
    "print(f)"
   ]
  },
  {
   "attachments": {},
   "cell_type": "markdown",
   "metadata": {},
   "source": [
    "### Soma dos Números Naturais"
   ]
  },
  {
   "cell_type": "code",
   "execution_count": null,
   "metadata": {},
   "outputs": [],
   "source": [
    "for i in range(1, 100):\n",
    "    soma = i + 1\n",
    "    print(soma)"
   ]
  },
  {
   "attachments": {},
   "cell_type": "markdown",
   "metadata": {},
   "source": [
    "# Semana 2 - Exercícios de apoio"
   ]
  },
  {
   "attachments": {},
   "cell_type": "markdown",
   "metadata": {},
   "source": [
    "### Média Harmônica"
   ]
  },
  {
   "cell_type": "code",
   "execution_count": 2,
   "metadata": {},
   "outputs": [
    {
     "data": {
      "text/plain": [
       "6.120733571064696"
      ]
     },
     "execution_count": 2,
     "metadata": {},
     "output_type": "execute_result"
    }
   ],
   "source": [
    "3/((1/3.6)+(1/8.9)+(1/10))"
   ]
  },
  {
   "attachments": {},
   "cell_type": "markdown",
   "metadata": {},
   "source": [
    "## Exercício 2.1"
   ]
  },
  {
   "cell_type": "code",
   "execution_count": 3,
   "metadata": {},
   "outputs": [
    {
     "data": {
      "text/plain": [
       "15"
      ]
     },
     "execution_count": 3,
     "metadata": {},
     "output_type": "execute_result"
    }
   ],
   "source": [
    "#A soma dos 5 primeiros inteiros positivos\n",
    "1 + 2 + 3 + 4 + 5"
   ]
  },
  {
   "cell_type": "code",
   "execution_count": 2,
   "metadata": {},
   "outputs": [
    {
     "name": "stdout",
     "output_type": "stream",
     "text": [
      "24.333333333333332\n"
     ]
    }
   ],
   "source": [
    "#A idade média de Sara (idade 23), Mark (idade 19) e Fátima (idade 31).\n",
    "idade1 = 23\n",
    "idade2 = 19\n",
    "idade3 = 31\n",
    "media = (idade1 + idade2 + idade3) / 3 \n",
    "print(float(media))"
   ]
  },
  {
   "cell_type": "code",
   "execution_count": 5,
   "metadata": {},
   "outputs": [
    {
     "data": {
      "text/plain": [
       "5"
      ]
     },
     "execution_count": 5,
     "metadata": {},
     "output_type": "execute_result"
    }
   ],
   "source": [
    "#O número de vezes que 73 cabe em 403.\n",
    "403 // 73"
   ]
  },
  {
   "cell_type": "code",
   "execution_count": 3,
   "metadata": {},
   "outputs": [
    {
     "name": "stdout",
     "output_type": "stream",
     "text": [
      "38.0\n"
     ]
    }
   ],
   "source": [
    "#O resto de quando 403 é dividido por 73\n",
    "x = 403 % 73\n",
    "print(float(x))"
   ]
  },
  {
   "cell_type": "code",
   "execution_count": 7,
   "metadata": {},
   "outputs": [
    {
     "data": {
      "text/plain": [
       "1024"
      ]
     },
     "execution_count": 7,
     "metadata": {},
     "output_type": "execute_result"
    }
   ],
   "source": [
    "#2 à 10ª potência.\n",
    "2 ** 10"
   ]
  },
  {
   "cell_type": "code",
   "execution_count": 9,
   "metadata": {},
   "outputs": [
    {
     "data": {
      "text/plain": [
       "3"
      ]
     },
     "execution_count": 9,
     "metadata": {},
     "output_type": "execute_result"
    }
   ],
   "source": [
    "#O valor absoluto da distância entre a altura de Sara (54 polegadas) e a altura de Mark (57 polegadas).\n",
    "abs(54 - 57)"
   ]
  },
  {
   "cell_type": "code",
   "execution_count": 10,
   "metadata": {},
   "outputs": [
    {
     "data": {
      "text/plain": [
       "29.95"
      ]
     },
     "execution_count": 10,
     "metadata": {},
     "output_type": "execute_result"
    }
   ],
   "source": [
    "#O menor preço entre os seguintes preços: R$ 34,99, R$ 29,95 e R$ 31,50.\n",
    "min(34.99, 29.95, 31.50)"
   ]
  },
  {
   "attachments": {},
   "cell_type": "markdown",
   "metadata": {},
   "source": [
    "## Exercício 2.2"
   ]
  },
  {
   "cell_type": "code",
   "execution_count": 1,
   "metadata": {},
   "outputs": [
    {
     "name": "stdout",
     "output_type": "stream",
     "text": [
      "False\n"
     ]
    }
   ],
   "source": [
    "#A soma de 2 e 2 é menor que 4.\n",
    "print(2 + 2 < 4)"
   ]
  },
  {
   "cell_type": "code",
   "execution_count": 2,
   "metadata": {},
   "outputs": [
    {
     "name": "stdout",
     "output_type": "stream",
     "text": [
      "True\n"
     ]
    }
   ],
   "source": [
    "# O valor de 7 // 3 é igual a 1 + 1.\n",
    "print(7 // 3 == 1 + 1)"
   ]
  },
  {
   "cell_type": "code",
   "execution_count": 4,
   "metadata": {},
   "outputs": [
    {
     "name": "stdout",
     "output_type": "stream",
     "text": [
      "True\n"
     ]
    }
   ],
   "source": [
    "#A soma de 3 ao quadrado e 4 ao quadrado é igual a 25.\n",
    "print(9 + 16 == 25)"
   ]
  },
  {
   "cell_type": "code",
   "execution_count": 5,
   "metadata": {},
   "outputs": [
    {
     "name": "stdout",
     "output_type": "stream",
     "text": [
      "False\n"
     ]
    }
   ],
   "source": [
    "#A soma de 2, 4 e 6 é maior que 12.\n",
    "print(2 + 4 + 6 > 12)"
   ]
  },
  {
   "cell_type": "code",
   "execution_count": 8,
   "metadata": {},
   "outputs": [
    {
     "name": "stdout",
     "output_type": "stream",
     "text": [
      "1387 é divisivel por 19\n"
     ]
    }
   ],
   "source": [
    "#1387 é divisível por 19.\n",
    "if 1387 % 19 == 0:\n",
    "    print(\"1387 é divisivel por 19\")\n",
    "else:\n",
    "    print(\"1387 não é divisivel por 19\")"
   ]
  },
  {
   "cell_type": "code",
   "execution_count": 13,
   "metadata": {},
   "outputs": [
    {
     "name": "stdout",
     "output_type": "stream",
     "text": [
      "1\n"
     ]
    }
   ],
   "source": [
    "#31 é par. (Dica: o que o resto lhe diz quando você divide por 2?)\n",
    "print(31 % 2)\n",
    "#31 não é par"
   ]
  },
  {
   "cell_type": "code",
   "execution_count": 1,
   "metadata": {},
   "outputs": [
    {
     "name": "stdout",
     "output_type": "stream",
     "text": [
      "O preço mais baixo é menor que R$ 30,00\n"
     ]
    }
   ],
   "source": [
    "#O preço mais baixo dentre R$ 34,99, R$ 29,95 e R$ 31,50 é menor que R$ 30,00.\n",
    "precos = [34.99, 29.95, 31.50]\n",
    "preco_mais_baixo = min(precos)\n",
    "\n",
    "if preco_mais_baixo < 30.00:\n",
    "    print(\"O preço mais baixo é menor que R$ 30,00\")\n",
    "else:\n",
    "    print(\"O preço mais baixo é igual ou maior que R$ 30,00\")"
   ]
  },
  {
   "attachments": {},
   "cell_type": "markdown",
   "metadata": {},
   "source": [
    "## Exercício 2.3"
   ]
  },
  {
   "cell_type": "code",
   "execution_count": 2,
   "metadata": {},
   "outputs": [
    {
     "name": "stdout",
     "output_type": "stream",
     "text": [
      "3\n"
     ]
    }
   ],
   "source": [
    "#Atribua o valor inteiro 3 à variável a.\n",
    "a = 3\n",
    "print(a)"
   ]
  },
  {
   "cell_type": "code",
   "execution_count": 3,
   "metadata": {},
   "outputs": [
    {
     "name": "stdout",
     "output_type": "stream",
     "text": [
      "4\n"
     ]
    }
   ],
   "source": [
    "#Atribua 4 à variável b.\n",
    "b = 4\n",
    "print(b)"
   ]
  },
  {
   "cell_type": "code",
   "execution_count": 1,
   "metadata": {},
   "outputs": [
    {
     "name": "stdout",
     "output_type": "stream",
     "text": [
      "25\n"
     ]
    }
   ],
   "source": [
    "# Atribua à variável c o valor da expressão a * a + b * b.\n",
    "a = 3\n",
    "b = 4\n",
    "c = (a * a) + (b * b)\n",
    "print(c)"
   ]
  },
  {
   "attachments": {},
   "cell_type": "markdown",
   "metadata": {},
   "source": [
    "## Exercício 2.4"
   ]
  },
  {
   "cell_type": "code",
   "execution_count": 9,
   "metadata": {},
   "outputs": [
    {
     "name": "stdout",
     "output_type": "stream",
     "text": [
      "antbatcod\n",
      "antantantantantantantantantant\n",
      "antbatbatcodcodcod\n",
      "batbatcodbatbatcodbatbatcodbatbatcodbatbatcod\n"
     ]
    }
   ],
   "source": [
    "#(a) 'ant bat cod'\n",
    "#(b) ant ant ant ant ant ant ant ant ant ant'\n",
    "#(c) 'ant bat bat cod cod cod'\n",
    "#(d) 'ant bat ant bat ant bat ant bat ant bat ant bat ant bat'\n",
    "#(e) 'batbatcod batbatcod batbatcod batbatcod batbatcod'\n",
    "s1 = 'ant'\n",
    "s2 = 'bat'\n",
    "s3 = 'cod'\n",
    "print(s1 + s2 + s3)\n",
    "print(s1 * 10)\n",
    "print(s1 + (s2 * 2) + (s3 * 3))\n",
    "print((s2 * 2) + s3 + (s2 * 2) + s3 + (s2 * 2) + s3 + (s2 * 2) + s3 + (s2 * 2) + s3)"
   ]
  },
  {
   "attachments": {},
   "cell_type": "markdown",
   "metadata": {},
   "source": [
    "## Exercício 2.5"
   ]
  },
  {
   "cell_type": "code",
   "execution_count": 15,
   "metadata": {},
   "outputs": [
    {
     "name": "stdout",
     "output_type": "stream",
     "text": [
      "0123456789\n",
      "0\n",
      "1\n",
      "6\n",
      "8\n",
      "9\n"
     ]
    }
   ],
   "source": [
    "s = '0123456789'\n",
    "print(s)\n",
    "print(s[0])\n",
    "print(s[1])\n",
    "print(s[6])\n",
    "print(s[8])\n",
    "print(s[9])"
   ]
  },
  {
   "attachments": {},
   "cell_type": "markdown",
   "metadata": {},
   "source": [
    "# Semana 3 - Exercícios de Apoio"
   ]
  },
  {
   "attachments": {},
   "cell_type": "markdown",
   "metadata": {},
   "source": [
    "## Exercício 2.6"
   ]
  },
  {
   "cell_type": "code",
   "execution_count": null,
   "metadata": {},
   "outputs": [],
   "source": [
    "#Primeiro, execute a atribuição\n",
    "#palavras = ['taco', 'bola', 'celeiro', 'cesta', 'peteca']\n",
    "#Agora, escreva duas expressões Python que são avaliadas, respectivamente, como a primeiro e a última palavras em palavras, na ordem do dicionário."
   ]
  },
  {
   "cell_type": "code",
   "execution_count": 3,
   "metadata": {},
   "outputs": [
    {
     "name": "stdout",
     "output_type": "stream",
     "text": [
      "bola\n",
      "taco\n"
     ]
    }
   ],
   "source": [
    "palavras = ['taco', 'bola', 'celeiro', 'cesta', 'peteca']\n",
    "print(min(palavras))\n",
    "print(max(palavras))"
   ]
  },
  {
   "attachments": {},
   "cell_type": "markdown",
   "metadata": {},
   "source": [
    "## Exercício 2.7"
   ]
  },
  {
   "cell_type": "code",
   "execution_count": null,
   "metadata": {},
   "outputs": [],
   "source": [
    "#Dada a lista de notas de trabalho de casa dos alunos\n",
    "#>>> notas = [9, 7, 7, 10, 3, 9, 6, 6, 2]\n",
    "#escreva:\n",
    "#(a) Uma expressão que avalia para o número de 7 notas.\n",
    "#(b) Uma instrução que muda a última nota para 4.\n",
    "#(c) Uma expressão que avalia para a nota mais alta.\n",
    "#(d) Uma instrução que classifica as notas da lista.\n",
    "#(e) Uma expressão que avalia para a média das notas."
   ]
  },
  {
   "cell_type": "code",
   "execution_count": 8,
   "metadata": {},
   "outputs": [
    {
     "data": {
      "text/plain": [
       "2"
      ]
     },
     "execution_count": 8,
     "metadata": {},
     "output_type": "execute_result"
    }
   ],
   "source": [
    "notas = [9, 7, 7, 10, 3, 9, 6, 2]\n",
    "notas.count(7)"
   ]
  },
  {
   "cell_type": "code",
   "execution_count": 10,
   "metadata": {},
   "outputs": [
    {
     "name": "stdout",
     "output_type": "stream",
     "text": [
      "[9, 7, 7, 10, 3, 9, 6, 4]\n"
     ]
    }
   ],
   "source": [
    "notas = [9, 7, 7, 10, 3, 9, 6, 2]\n",
    "notas[-1] = 4\n",
    "print(notas)"
   ]
  },
  {
   "cell_type": "code",
   "execution_count": 11,
   "metadata": {},
   "outputs": [
    {
     "name": "stdout",
     "output_type": "stream",
     "text": [
      "10\n"
     ]
    }
   ],
   "source": [
    "print(max(notas))"
   ]
  },
  {
   "cell_type": "code",
   "execution_count": 13,
   "metadata": {},
   "outputs": [
    {
     "name": "stdout",
     "output_type": "stream",
     "text": [
      "[3, 4, 6, 7, 7, 9, 9, 10]\n"
     ]
    }
   ],
   "source": [
    "notas.sort()\n",
    "print(notas)"
   ]
  },
  {
   "cell_type": "code",
   "execution_count": 14,
   "metadata": {},
   "outputs": [
    {
     "data": {
      "text/plain": [
       "6.875"
      ]
     },
     "execution_count": 14,
     "metadata": {},
     "output_type": "execute_result"
    }
   ],
   "source": [
    "sum(notas) / len(notas)"
   ]
  },
  {
   "attachments": {},
   "cell_type": "markdown",
   "metadata": {},
   "source": [
    "## Exercício 2.8"
   ]
  },
  {
   "cell_type": "code",
   "execution_count": null,
   "metadata": {},
   "outputs": [],
   "source": [
    "#Em que ordem os operadores nas expressões a seguir são avaliados?\n",
    "#(a) 2 + 3 == 4 or a >= 5\n",
    "#(b) lst[1] * -3 < -10 == 0\n",
    "#(c) (lst[1] * -3 < -10) in [0, True]\n",
    "#(d) 2 * 3**2\n",
    "#(e) 4 / 2 in [1, 2, 3]"
   ]
  },
  {
   "attachments": {},
   "cell_type": "markdown",
   "metadata": {},
   "source": [
    "- ((2 + 3) == 4) or (a >= 5)\n",
    "- (((list[1]) * (-3)) < (-10)) == 0\n",
    "- ((list[1]) * (-3)) < (-10)) in [0, True]\n",
    "- 2 * (3**2)\n",
    "- (4/2) in [1, 2, 3]"
   ]
  },
  {
   "attachments": {},
   "cell_type": "markdown",
   "metadata": {},
   "source": [
    "## Exercício 2.9"
   ]
  },
  {
   "cell_type": "code",
   "execution_count": null,
   "metadata": {},
   "outputs": [],
   "source": [
    "#Qual é o tipo do objeto ao qual essas expressões são avaliadas?\n",
    "#(a) False + False (O resultado (0) é um valor int.)\n",
    "#(b) 2 * 3**2.0 (valor float)\n",
    "#(c) 4 // 2 + 4 % 2 (valor int)\n",
    "#(d) 2 + 3 == 4 or 5 >= 5  (valor booleano)"
   ]
  },
  {
   "attachments": {},
   "cell_type": "markdown",
   "metadata": {},
   "source": [
    "## Exercício 2.10"
   ]
  },
  {
   "cell_type": "code",
   "execution_count": null,
   "metadata": {},
   "outputs": [],
   "source": [
    "#Escreva expressões Python correspondentes ao seguinte:\n",
    "#(a) O comprimento da hipotenusa em um triângulo retângulo cujos dois outros lados têm comprimentos a e b\n",
    "#(b) O valor da expressão que avalia se o comprimento da hipotenusa acima é 5\n",
    "#(c) A área de um disco com raio a\n",
    "#(d) O valor da expressão Booleana que verifica se um ponto com coordenadas x e y está dentro de um círculo com centro ( a, b ) e raio r"
   ]
  },
  {
   "cell_type": "code",
   "execution_count": 2,
   "metadata": {},
   "outputs": [
    {
     "data": {
      "text/plain": [
       "22.360679774997898"
      ]
     },
     "execution_count": 2,
     "metadata": {},
     "output_type": "execute_result"
    }
   ],
   "source": [
    "import math\n",
    "a = 10\n",
    "b = 20\n",
    "math.sqrt(a ** 2 + b ** 2)"
   ]
  },
  {
   "cell_type": "code",
   "execution_count": 3,
   "metadata": {},
   "outputs": [
    {
     "data": {
      "text/plain": [
       "False"
      ]
     },
     "execution_count": 3,
     "metadata": {},
     "output_type": "execute_result"
    }
   ],
   "source": [
    "import math\n",
    "a = 10\n",
    "b = 20\n",
    "math.sqrt(a ** 2 + b ** 2) == 5"
   ]
  },
  {
   "cell_type": "code",
   "execution_count": 5,
   "metadata": {},
   "outputs": [
    {
     "data": {
      "text/plain": [
       "314.1592653589793"
      ]
     },
     "execution_count": 5,
     "metadata": {},
     "output_type": "execute_result"
    }
   ],
   "source": [
    "import math\n",
    "a = 10\n",
    "math.pi * a ** 2"
   ]
  },
  {
   "cell_type": "code",
   "execution_count": 9,
   "metadata": {},
   "outputs": [
    {
     "data": {
      "text/plain": [
       "False"
      ]
     },
     "execution_count": 9,
     "metadata": {},
     "output_type": "execute_result"
    }
   ],
   "source": [
    "x = 50\n",
    "y = 20\n",
    "r = 10\n",
    "(x - a)**2 + (y - b)**2 < r**2"
   ]
  },
  {
   "attachments": {},
   "cell_type": "markdown",
   "metadata": {},
   "source": [
    "# Semana 4 - Exercícios de Apoio"
   ]
  },
  {
   "attachments": {},
   "cell_type": "markdown",
   "metadata": {},
   "source": [
    "## Exercício 3.1"
   ]
  },
  {
   "cell_type": "code",
   "execution_count": null,
   "metadata": {},
   "outputs": [],
   "source": [
    "#Implemente um programa que solicita a temperatura atual em graus Fahrenheit do usuário e exibe a temperatura em graus Celsius usando a fórmula\n",
    "#celsius space equals 5 over 9 left parenthesis text \n",
    "#       fahrenheit  \n",
    "#     end text minus 32 right parenthesis.\n",
    "#Seu programa deverá ser executado da seguinte forma:\n",
    "#>>>\n",
    "#Digite a temperatura em graus Fahrenheit: 50\n",
    "#A temperatura em graus Celsius é 10.0"
   ]
  },
  {
   "attachments": {},
   "cell_type": "markdown",
   "metadata": {},
   "source": [
    "## Exercício 3.8"
   ]
  },
  {
   "cell_type": "code",
   "execution_count": null,
   "metadata": {},
   "outputs": [],
   "source": [
    "#Defina, diretamente no shell interativo, a função média(), que aceita dois números como entrada e retorna a média dos números. Um exemplo de uso é:\n",
    "#>>> average(2, 3.5)\n",
    "#2.75"
   ]
  },
  {
   "attachments": {},
   "cell_type": "markdown",
   "metadata": {},
   "source": [
    "## Exercício 3.9"
   ]
  },
  {
   "cell_type": "code",
   "execution_count": null,
   "metadata": {},
   "outputs": [],
   "source": [
    "#Implemente a função perímetro(), que aceita, como entrada, o raio de um círculo (um número não negativo) e retorna o perímetro do círculo. Você deverá escrever sua implementação em um módulo chamado perímetro.py. Um exemplo de uso é:\n",
    "#>>> perimeter(1)\n",
    "#6.283185307179586"
   ]
  },
  {
   "attachments": {},
   "cell_type": "markdown",
   "metadata": {},
   "source": [
    "## Exercício 3.10"
   ]
  },
  {
   "cell_type": "code",
   "execution_count": null,
   "metadata": {},
   "outputs": [],
   "source": [
    "#Escreva a função negativos(), que aceita uma lista como entrada e exibe, um por linha, os valores negativos na lista. A função não deverá retornar nada.\n",
    "#>>> negatives([4, 0, −1, −3, 6, −9])\n",
    "#-1\n",
    "#-3\n",
    "#-9"
   ]
  },
  {
   "attachments": {},
   "cell_type": "markdown",
   "metadata": {},
   "source": [
    "## Exercício 3.11"
   ]
  },
  {
   "cell_type": "code",
   "execution_count": null,
   "metadata": {},
   "outputs": [],
   "source": [
    "#Acrescente a docstring retorna a média de x e y à função média() e a docstring exibe os números negativos contidos na lista lst à função negativos() dos Problemas Práticos 3.8 e 3.10. Verifique seu trabalho usando a ferramenta de documentação help(). Você deverá receber, por exemplo:\n",
    "#>>> help(média)\n",
    "#Ajuda sobre a função média no módulo __main__:\n",
    "#média(x, y)\n",
    "#retorna a média de x e y"
   ]
  },
  {
   "attachments": {},
   "cell_type": "markdown",
   "metadata": {},
   "source": [
    "## Exercício 3.12"
   ]
  },
  {
   "cell_type": "code",
   "execution_count": null,
   "metadata": {},
   "outputs": [],
   "source": [
    "#Desenhe um diagrama representando o estado dos nomes e objetos após esta execução:\n",
    "#>>> a = [5, 6, 7]\n",
    "#>>> b = a\n",
    "#>>> a = 3"
   ]
  },
  {
   "attachments": {},
   "cell_type": "markdown",
   "metadata": {},
   "source": [
    "## Exercício 3.13"
   ]
  },
  {
   "cell_type": "code",
   "execution_count": null,
   "metadata": {},
   "outputs": [],
   "source": [
    "#Suponha que uma lista não vazia time foi atribuída. Escreva uma instrução Python ou instruções que mapeiam o primeiro e último valor da lista. Assim, se a lista original for:\n",
    "#>>> time = [’Ava’, ’Eleanor’, ’Clare’, ’Sarah’]\n",
    "#então a lista resultante deverá ser:\n",
    "#>>> time\n",
    "#[’Sarah’, ’Eleanor’, ’Clare’, ’Ava’]\n"
   ]
  },
  {
   "attachments": {},
   "cell_type": "markdown",
   "metadata": {},
   "source": [
    "## Exercício 3.14"
   ]
  },
  {
   "cell_type": "code",
   "execution_count": null,
   "metadata": {},
   "outputs": [],
   "source": [
    "#Implemente a função trocaPU(), que aceita uma lista como entrada e troca o primeiro e último elementos da lista. Você pode considerar que a lista não estará vazia. A função não deverá retornar nada.\n",
    "#>>> ingredientes = [’farinha’, ’açúcar’, ’manteiga’, ’maçãs’]\n",
    "#>>> trocaPU(ingredientes)\n",
    "#>>> ingredientes\n",
    "#[’maçãs’, ’açúcar’, ’manteiga’, ’farinha’]"
   ]
  }
 ],
 "metadata": {
  "kernelspec": {
   "display_name": "Python 3",
   "language": "python",
   "name": "python3"
  },
  "language_info": {
   "codemirror_mode": {
    "name": "ipython",
    "version": 3
   },
   "file_extension": ".py",
   "mimetype": "text/x-python",
   "name": "python",
   "nbconvert_exporter": "python",
   "pygments_lexer": "ipython3",
   "version": "3.10.6"
  },
  "orig_nbformat": 4,
  "vscode": {
   "interpreter": {
    "hash": "916dbcbb3f70747c44a77c7bcd40155683ae19c65e1c03b4aa3499c5328201f1"
   }
  }
 },
 "nbformat": 4,
 "nbformat_minor": 2
}
