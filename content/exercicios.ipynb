{
 "cells": [
  {
   "attachments": {},
   "cell_type": "markdown",
   "metadata": {},
   "source": [
    "# Algoritmos e Programação de Computadores I"
   ]
  },
  {
   "attachments": {},
   "cell_type": "markdown",
   "metadata": {},
   "source": [
    "### Algoritmo do Filme Coringa"
   ]
  },
  {
   "cell_type": "code",
   "execution_count": null,
   "metadata": {},
   "outputs": [],
   "source": [
    "#inicio\n",
    "    #ir ao cinema\n",
    "    #comprar uma entrada\n",
    "    #ver o filme\n",
    "    #voltar para casa\n",
    "#fim\n",
    "\n",
    "#e se não tiver passando?\n",
    "#e se mão tiver fila? \n",
    "#e se não houver lugar?"
   ]
  },
  {
   "attachments": {},
   "cell_type": "markdown",
   "metadata": {},
   "source": [
    "### Média de Notas"
   ]
  },
  {
   "cell_type": "code",
   "execution_count": null,
   "metadata": {},
   "outputs": [],
   "source": [
    "media = 0 #variavel para guardar a média\n",
    "total_notas = 0 #variável para guardar total de notas\n",
    "\n",
    "for i in range(100): #itera sobre os 5 alunos\n",
    "    nota = int(input(\"Informe a nota do aluno {}:\".format(i+1))) #leitura da nota\n",
    "    total_notas += nota #soma da nota lida com total de notas\n",
    "\n",
    "media = total_notas / 100 #media é o total de notas dividido por 5(número de alunos)\n",
    "print(\"A média das notas é {}\".format(media))"
   ]
  },
  {
   "cell_type": "code",
   "execution_count": null,
   "metadata": {},
   "outputs": [],
   "source": [
    "media = 0 #variavel para guardar a média\n",
    "total_notas = 0 #variável para guardar total de notas\n",
    "\n",
    "for i in range(4): #itera sobre os 5 alunos\n",
    "    nota = int(input(\"Informe as notas do aluno, N{}:\".format(i+1))) #leitura da nota\n",
    "    total_notas += nota #soma da nota lida com total de notas\n",
    "\n",
    "media = total_notas / 4 #media é o total de notas dividido por 5(número de alunos)\n",
    "print(\"A média das notas do aluno é {}\".format(media))\n",
    "if media > 5:\n",
    "    print(\"Aluno aprovado com média\", media)\n",
    "if media < 5:\n",
    "    print(\"Aluno Reprovado com média\", media)"
   ]
  },
  {
   "attachments": {},
   "cell_type": "markdown",
   "metadata": {},
   "source": [
    "### Conversão Celsius x Fahrenheit"
   ]
  },
  {
   "cell_type": "code",
   "execution_count": null,
   "metadata": {},
   "outputs": [],
   "source": [
    "c = float(input(\"Temperatura em graus Celsius:\"))\n",
    "f = c * 9 / 5 + 32\n",
    "print(f)"
   ]
  },
  {
   "attachments": {},
   "cell_type": "markdown",
   "metadata": {},
   "source": [
    "### Soma dos Números Naturais"
   ]
  },
  {
   "cell_type": "code",
   "execution_count": null,
   "metadata": {},
   "outputs": [],
   "source": [
    "for i in range(1, 100):\n",
    "    soma = i + 1\n",
    "    print(soma)"
   ]
  }
 ],
 "metadata": {
  "kernelspec": {
   "display_name": "Python 3",
   "language": "python",
   "name": "python3"
  },
  "language_info": {
   "name": "python",
   "version": "3.10.4"
  },
  "orig_nbformat": 4,
  "vscode": {
   "interpreter": {
    "hash": "3ad933181bd8a04b432d3370b9dc3b0662ad032c4dfaa4e4f1596c548f763858"
   }
  }
 },
 "nbformat": 4,
 "nbformat_minor": 2
}
